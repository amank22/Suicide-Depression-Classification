{
 "cells": [
  {
   "cell_type": "code",
   "execution_count": null,
   "id": "604264ca",
   "metadata": {},
   "outputs": [],
   "source": [
    "!python3 -m pip install --upgrade pip\n",
    "!python3 -m pip install --upgrade setuptools"
   ]
  },
  {
   "cell_type": "code",
   "execution_count": null,
   "id": "d2501a02",
   "metadata": {},
   "outputs": [],
   "source": [
    "isGpuEnabled = 'false'"
   ]
  },
  {
   "cell_type": "code",
   "execution_count": null,
   "id": "fd0feb57",
   "metadata": {},
   "outputs": [],
   "source": [
    "if isGpuEnabled == 'false':\n",
    "    # CPU Install\n",
    "    !python3 -m pip install -U pip\n",
    "    !python3 -m pip install -U setuptools wheel\n",
    "    !python3 -m pip install \"mxnet<2.0.0, >=1.7.0\"\n",
    "    !python3 -m pip install autogluon\n",
    "    !pip install \"scikit-learn-intelex<2021.3\" // speeds up KNN models on CPU\n",
    "else:\n",
    "    # GPU Install\n",
    "    !python3 -m pip install -U pip\n",
    "    !python3 -m pip install -U setuptools wheel\n",
    "\n",
    "    # Here we assume CUDA 10.1 is installed.  You should change the number\n",
    "    # according to your own CUDA version (e.g. mxnet_cu100 for CUDA 10.0).\n",
    "    !python3 -m pip install \"mxnet_cu111<2.0.0, >=1.7.0\"\n",
    "    !python3 -m pip install autogluon"
   ]
  },
  {
   "cell_type": "code",
   "execution_count": null,
   "id": "89406aca",
   "metadata": {},
   "outputs": [],
   "source": [
    "%matplotlib inline\n",
    "import matplotlib.pyplot as plt\n",
    "import numpy as np\n",
    "import pandas as pd\n",
    "import pprint\n",
    "import random\n",
    "from autogluon.tabular import TabularPredictor\n",
    "import mxnet as mx\n",
    "\n",
    "np.random.seed(123)\n",
    "random.seed(123)\n",
    "mx.random.seed(123)"
   ]
  },
  {
   "cell_type": "code",
   "execution_count": null,
   "id": "b20f8b08",
   "metadata": {},
   "outputs": [],
   "source": [
    "test_url = \"https://sagemaker-us-east-1-249959045939.s3.amazonaws.com/suicide-transformer/suicide-classification/suicide-classify-trial/data/test/test.csv\"\n",
    "train_url = \"https://sagemaker-us-east-1-249959045939.s3.amazonaws.com/suicide-transformer/suicide-classification/suicide-classify-trial/data/training/train.csv\"\n",
    "validate_url = \"https://sagemaker-us-east-1-249959045939.s3.amazonaws.com/suicide-transformer/suicide-classification/suicide-classify-trial/data/validation/validation.csv\"\n",
    "!wget $test_url $train_url $validate_url  -P data/"
   ]
  },
  {
   "cell_type": "code",
   "execution_count": null,
   "id": "c52a147f",
   "metadata": {},
   "outputs": [],
   "source": [
    "subsample_size = 2000  # for quick demo, try setting to larger values\n",
    "feature_columns = ['text']\n",
    "label = 'class'\n",
    "\n",
    "train_df = pd.read_csv('data/train.csv')\n",
    "dev_df = pd.read_csv('data/validation.csv')\n",
    "test_df = pd.read_csv('data/test.csv')\n",
    "\n",
    "if isGpuEnabled == 'false':\n",
    "    train_df = train_df.sample(2000, random_state=123)\n",
    "    dev_df = dev_df.sample(2000, random_state=123)\n",
    "    test_df = test_df.sample(2000, random_state=123)\n",
    "\n",
    "train_df = train_df[feature_columns + [label]]\n",
    "dev_df = dev_df[feature_columns + [label]]\n",
    "test_df = test_df[feature_columns]\n",
    "# train_df[\"class\"] = train_df[\"class\"].astype(\"category\")\n",
    "# dev_df[\"class\"] = train_df[\"class\"].astype(\"category\")\n",
    "# test_df[\"class\"] = train_df[\"class\"].astype(\"category\")\n",
    "print('Number of training samples:', len(train_df))\n",
    "print('Number of dev samples:', len(dev_df))\n",
    "print('Number of test samples:', len(test_df))"
   ]
  },
  {
   "cell_type": "code",
   "execution_count": null,
   "id": "5d2c6da3",
   "metadata": {},
   "outputs": [],
   "source": [
    "from autogluon.tabular import TabularPredictor\n",
    "outputFolder = 'output'\n",
    "predictor = TabularPredictor(label=label, path=outputFolder, verbosity=3)\n",
    "# For CPU, comment on GPU\n",
    "if isGpuEnabled == 'false':\n",
    "#     %env AUTOGLUON_TEXT_TRAIN_WITHOUT_GPU=1 \n",
    "    predictor.fit(train_df)\n",
    "else:\n",
    "    predictor.fit(train_df, hyperparameters='multimodal', num_bag_folds=5, num_stack_levels=1)"
   ]
  },
  {
   "cell_type": "code",
   "execution_count": null,
   "id": "87650c87",
   "metadata": {},
   "outputs": [],
   "source": [
    "null_count = dev_df.isnull().sum()\n",
    "null_count"
   ]
  },
  {
   "cell_type": "code",
   "execution_count": null,
   "id": "064eed3c",
   "metadata": {},
   "outputs": [],
   "source": [
    "predictor.leaderboard(dev_df)"
   ]
  },
  {
   "cell_type": "code",
   "execution_count": null,
   "id": "d4077210",
   "metadata": {},
   "outputs": [],
   "source": [
    "import os\n",
    "import json\n",
    "dev_metric_score = predictor.evaluate(dev_df)\n",
    "dev_predictions = predictor.predict(dev_df, as_pandas=True)\n",
    "test_predictions = predictor.predict(test_df, as_pandas=True)\n",
    "dev_predictions.to_csv(os.path.join(outputFolder, 'dev_prediction.csv'))\n",
    "test_predictions.to_csv(os.path.join(outputFolder, 'test_prediction.csv'))\n",
    "with open(os.path.join(outputFolder, 'final_model_scores.json'), 'w') as of:\n",
    "    json.dump(dev_metric_score, of)"
   ]
  },
  {
   "cell_type": "code",
   "execution_count": null,
   "id": "7500ee61",
   "metadata": {},
   "outputs": [],
   "source": []
  }
 ],
 "metadata": {
  "kernelspec": {
   "display_name": "ludwigfresh",
   "language": "python",
   "name": "ludwigfresh"
  },
  "language_info": {
   "codemirror_mode": {
    "name": "ipython",
    "version": 3
   },
   "file_extension": ".py",
   "mimetype": "text/x-python",
   "name": "python",
   "nbconvert_exporter": "python",
   "pygments_lexer": "ipython3",
   "version": "3.8.2"
  }
 },
 "nbformat": 4,
 "nbformat_minor": 5
}